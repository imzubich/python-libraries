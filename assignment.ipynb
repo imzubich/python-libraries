{
 "cells": [
  {
   "cell_type": "code",
   "execution_count": null,
   "id": "d9bfb0e0",
   "metadata": {},
   "outputs": [
    {
     "name": "stdout",
     "output_type": "stream",
     "text": [
      "25.000000000000007\n"
     ]
    }
   ],
   "source": [
    "#write a program which finds the determinent\n",
    "import numpy as np\n",
    "matrix = np.array([[5,2],[10,9]])\n",
    "# det = np.linalg.det(matrix)\n",
    "det = np.linalg.(matrix)\n",
    "\n",
    "print(det)"
   ]
  },
  {
   "cell_type": "code",
   "execution_count": 19,
   "id": "23440575",
   "metadata": {},
   "outputs": [
    {
     "name": "stdout",
     "output_type": "stream",
     "text": [
      "[ 2  4  6  8 10 12]\n"
     ]
    }
   ],
   "source": [
    "#write a program which prints the even numbers\n",
    "arr = np.array([1,2,3,4,5,6,7,8,9,10,11,12])\n",
    "print(arr[1:: 2])"
   ]
  },
  {
   "cell_type": "code",
   "execution_count": 15,
   "id": "eafae9a8",
   "metadata": {},
   "outputs": [
    {
     "name": "stdout",
     "output_type": "stream",
     "text": [
      "59\n",
      "8.428571428571429\n"
     ]
    }
   ],
   "source": [
    "#write a program find the sum and average\n",
    "arr = np.array([5,6,2,9,10,12,15])\n",
    "arr1 = np.sum(arr)\n",
    "arr2 = np.average(arr)\n",
    "print(arr1)\n",
    "print(arr2)"
   ]
  }
 ],
 "metadata": {
  "kernelspec": {
   "display_name": "virtual_env",
   "language": "python",
   "name": "python3"
  },
  "language_info": {
   "codemirror_mode": {
    "name": "ipython",
    "version": 3
   },
   "file_extension": ".py",
   "mimetype": "text/x-python",
   "name": "python",
   "nbconvert_exporter": "python",
   "pygments_lexer": "ipython3",
   "version": "3.13.2"
  }
 },
 "nbformat": 4,
 "nbformat_minor": 5
}
