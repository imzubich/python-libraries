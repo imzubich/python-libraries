{
 "cells": [
  {
   "cell_type": "code",
   "execution_count": 1,
   "id": "54a107e2",
   "metadata": {},
   "outputs": [],
   "source": [
    "from tkinter import *\n",
    "from tkinter import messagebox\n",
    "\n",
    "root =  Tk()\n",
    "root.geometry(\"600x600\")\n",
    "root.title(\"First Class\")\n",
    "root.iconbitmap(\"ico.ico\")\n",
    "\n",
    "\n",
    "root.mainloop()"
   ]
  },
  {
   "cell_type": "markdown",
   "id": "09d1f12d",
   "metadata": {},
   "source": [
    "#log in form\n"
   ]
  },
  {
   "cell_type": "code",
   "execution_count": null,
   "id": "fb8c5b6d",
   "metadata": {},
   "outputs": [
    {
     "ename": "TclError",
     "evalue": "can't invoke \"wm\" command: application has been destroyed",
     "output_type": "error",
     "traceback": [
      "\u001b[31m---------------------------------------------------------------------------\u001b[39m",
      "\u001b[31mTclError\u001b[39m                                  Traceback (most recent call last)",
      "\u001b[36mCell\u001b[39m\u001b[36m \u001b[39m\u001b[32mIn[3]\u001b[39m\u001b[32m, line 7\u001b[39m\n\u001b[32m      5\u001b[39m window = tk.Tk()\n\u001b[32m      6\u001b[39m window.title(\u001b[33m\"\u001b[39m\u001b[33mLogin Form\u001b[39m\u001b[33m\"\u001b[39m)\n\u001b[32m----> \u001b[39m\u001b[32m7\u001b[39m \u001b[43mroot\u001b[49m\u001b[43m.\u001b[49m\u001b[43miconbitmap\u001b[49m\u001b[43m(\u001b[49m\u001b[33;43m\"\u001b[39;49m\u001b[33;43mico.ico\u001b[39;49m\u001b[33;43m\"\u001b[39;49m\u001b[43m)\u001b[49m\n\u001b[32m      8\u001b[39m window.geometry(\u001b[33m\"\u001b[39m\u001b[33m300x200\u001b[39m\u001b[33m\"\u001b[39m)\n\u001b[32m     10\u001b[39m \u001b[38;5;66;03m# Functions\u001b[39;00m\n",
      "\u001b[36mFile \u001b[39m\u001b[32m~\\AppData\\Local\\Programs\\Python\\Python313\\Lib\\tkinter\\__init__.py:2269\u001b[39m, in \u001b[36mWm.wm_iconbitmap\u001b[39m\u001b[34m(self, bitmap, default)\u001b[39m\n\u001b[32m   2267\u001b[39m     \u001b[38;5;28;01mreturn\u001b[39;00m \u001b[38;5;28mself\u001b[39m.tk.call(\u001b[33m'\u001b[39m\u001b[33mwm\u001b[39m\u001b[33m'\u001b[39m, \u001b[33m'\u001b[39m\u001b[33miconbitmap\u001b[39m\u001b[33m'\u001b[39m, \u001b[38;5;28mself\u001b[39m._w, \u001b[33m'\u001b[39m\u001b[33m-default\u001b[39m\u001b[33m'\u001b[39m, default)\n\u001b[32m   2268\u001b[39m \u001b[38;5;28;01melse\u001b[39;00m:\n\u001b[32m-> \u001b[39m\u001b[32m2269\u001b[39m     \u001b[38;5;28;01mreturn\u001b[39;00m \u001b[38;5;28;43mself\u001b[39;49m\u001b[43m.\u001b[49m\u001b[43mtk\u001b[49m\u001b[43m.\u001b[49m\u001b[43mcall\u001b[49m\u001b[43m(\u001b[49m\u001b[33;43m'\u001b[39;49m\u001b[33;43mwm\u001b[39;49m\u001b[33;43m'\u001b[39;49m\u001b[43m,\u001b[49m\u001b[43m \u001b[49m\u001b[33;43m'\u001b[39;49m\u001b[33;43miconbitmap\u001b[39;49m\u001b[33;43m'\u001b[39;49m\u001b[43m,\u001b[49m\u001b[43m \u001b[49m\u001b[38;5;28;43mself\u001b[39;49m\u001b[43m.\u001b[49m\u001b[43m_w\u001b[49m\u001b[43m,\u001b[49m\u001b[43m \u001b[49m\u001b[43mbitmap\u001b[49m\u001b[43m)\u001b[49m\n",
      "\u001b[31mTclError\u001b[39m: can't invoke \"wm\" command: application has been destroyed"
     ]
    }
   ],
   "source": [
    "import tkinter as tk\n",
    "from tkinter import messagebox\n",
    "\n",
    "# Window setup\n",
    "window = tk.Tk()\n",
    "window.title(\"Login Form\")\n",
    "window.iconbitmap(\"ico.ico\")\n",
    "window.geometry(\"300x200\")\n",
    "\n",
    "# Functions\n",
    "def login():\n",
    "    username = entry_username.get()\n",
    "    password = entry_password.get()\n",
    "\n",
    "    if username == \"admin\" and password == \"1234\":\n",
    "        messagebox.showinfo(\"Login Success\", \"Welcome, \" + username + \"!\")\n",
    "    else:\n",
    "        messagebox.showerror(\"Login Failed\", \"Invalid username or password.\")\n",
    "\n",
    "# Labels\n",
    "tk.Label(window, text=\"Username:\").pack(pady=5)\n",
    "entry_username = tk.Entry(window)\n",
    "entry_username.pack()\n",
    "\n",
    "tk.Label(window, text=\"Password:\").pack(pady=5)\n",
    "entry_password = tk.Entry(window, show=\"*\")\n",
    "entry_password.pack()\n",
    "\n",
    "# Button\n",
    "tk.Button(window, text=\"Login\", command=login).pack(pady=10)\n",
    "\n",
    "window.mainloop()\n"
   ]
  }
 ],
 "metadata": {
  "kernelspec": {
   "display_name": "virtual_env",
   "language": "python",
   "name": "python3"
  },
  "language_info": {
   "codemirror_mode": {
    "name": "ipython",
    "version": 3
   },
   "file_extension": ".py",
   "mimetype": "text/x-python",
   "name": "python",
   "nbconvert_exporter": "python",
   "pygments_lexer": "ipython3",
   "version": "3.13.2"
  }
 },
 "nbformat": 4,
 "nbformat_minor": 5
}
