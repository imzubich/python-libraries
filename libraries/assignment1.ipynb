{
 "cells": [
  {
   "cell_type": "code",
   "execution_count": 2,
   "id": "944d35f8",
   "metadata": {},
   "outputs": [
    {
     "name": "stdout",
     "output_type": "stream",
     "text": [
      "the generated number is :  0\n",
      "your score is :  0\n"
     ]
    }
   ],
   "source": [
    "import numpy as n\n",
    "flag = 0\n",
    "arr1 = n.random.randint(5)\n",
    "guess = int(input(\"Enter Your guess Number : \"))\n",
    "if guess == arr1:\n",
    "    flag += 1\n",
    "else:\n",
    "    flage = 0\n",
    "print(f\"the generated number is : \", arr1)\n",
    "print(\"your score is : \", flag)"
   ]
  },
  {
   "cell_type": "code",
   "execution_count": 11,
   "id": "e4e438a2",
   "metadata": {},
   "outputs": [
    {
     "name": "stdout",
     "output_type": "stream",
     "text": [
      "the valuse of x and y are respectively [1. 2.]\n",
      "The determinent of the given matrix is :  -1.0000000000000004\n",
      "___________________________________________________________________\n",
      "[[2 3]\n",
      " [3 4]]\n",
      "[[2 3]\n",
      " [3 4]]\n",
      "[[2 3]\n",
      " [3 4]]\n",
      "___________________________________________________________________\n",
      "[[16 33]\n",
      " [24 44]]\n"
     ]
    }
   ],
   "source": [
    "# 2x + 3y = 8\n",
    "\n",
    "# 3x + 4y = 11\n",
    "\n",
    "\n",
    "A = n.array([[2, 3], [3, 4]])\n",
    "\n",
    "B = n.array([8, 11])\n",
    "print(\"the valuse of x and y are respectively\" ,n.linalg.solve(A,B))\n",
    "\n",
    "print(\"The determinent of the given matrix is : \" , n.linalg.det(A))\n",
    "\n",
    "print(\"___________________________________________________________________\")\n",
    "\n",
    "print(A)\n",
    "print(A.T)\n",
    "print(n.transpose(A))\n",
    "print(\"___________________________________________________________________\")\n",
    "\n",
    "\n",
    "print(A*B)\n",
    "\n",
    "\n"
   ]
  },
  {
   "cell_type": "code",
   "execution_count": 9,
   "id": "4bd7b8fd",
   "metadata": {},
   "outputs": [
    {
     "name": "stdout",
     "output_type": "stream",
     "text": [
      "Prime numbers from 1 to 100 :\n",
      " [ 2  3  5  7 11 13 17 19 23 29 31 37 41 43 47 53 59 61 67 71 73 79 83 89\n",
      " 97]\n"
     ]
    }
   ],
   "source": [
    "def is_prime(a):\n",
    "    if a < 2:\n",
    "        return False\n",
    "    for i in range(2, int(n.sqrt(a)) + 1):\n",
    "        if a % i == 0:\n",
    "            return False\n",
    "    return True\n",
    "\n",
    "# Apply function to array\n",
    "N = 100\n",
    "numbers = n.arange(2, N+1)\n",
    "primes = numbers[n.vectorize(is_prime)(numbers)]\n",
    "\n",
    "print(\"Prime numbers from 1 to\", N, \":\\n\", primes)"
   ]
  },
  {
   "cell_type": "code",
   "execution_count": null,
   "id": "a00a6532",
   "metadata": {},
   "outputs": [],
   "source": []
  }
 ],
 "metadata": {
  "kernelspec": {
   "display_name": "virtual_env",
   "language": "python",
   "name": "python3"
  },
  "language_info": {
   "codemirror_mode": {
    "name": "ipython",
    "version": 3
   },
   "file_extension": ".py",
   "mimetype": "text/x-python",
   "name": "python",
   "nbconvert_exporter": "python",
   "pygments_lexer": "ipython3",
   "version": "3.13.2"
  }
 },
 "nbformat": 4,
 "nbformat_minor": 5
}
